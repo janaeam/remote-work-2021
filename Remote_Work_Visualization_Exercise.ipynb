{
  "nbformat": 4,
  "nbformat_minor": 0,
  "metadata": {
    "colab": {
      "name": "Remote_Work_Visualization_Exercise",
      "provenance": [],
      "collapsed_sections": [],
      "mount_file_id": "1L4Kco13cOBaDXusB-z-FTBFVIqAao1PG",
      "authorship_tag": "ABX9TyNJmbOR70QfQTis9tXKiP8V",
      "include_colab_link": true
    },
    "kernelspec": {
      "name": "python3",
      "display_name": "Python 3"
    },
    "language_info": {
      "name": "python"
    }
  },
  "cells": [
    {
      "cell_type": "markdown",
      "metadata": {
        "id": "view-in-github",
        "colab_type": "text"
      },
      "source": [
        "<a href=\"https://colab.research.google.com/github/janaeam/remote-work-2021/blob/main/Remote_Work_Visualization_Exercise.ipynb\" target=\"_parent\"><img src=\"https://colab.research.google.com/assets/colab-badge.svg\" alt=\"Open In Colab\"/></a>"
      ]
    },
    {
      "cell_type": "code",
      "metadata": {
        "id": "jkBB-dJrBfL8"
      },
      "source": [
        "import matplotlib.pyplot as plt\n",
        "import pandas as pd\n",
        "import numpy as np\n",
        "import seaborn as sns\n",
        "import folium\n",
        "import plotly.express as px"
      ],
      "execution_count": 1,
      "outputs": []
    },
    {
      "cell_type": "code",
      "metadata": {
        "colab": {
          "base_uri": "https://localhost:8080/",
          "height": 814
        },
        "id": "XHvrWV9bEEKe",
        "outputId": "b4e81fa1-c5b9-427d-e898-6db9d0f21811"
      },
      "source": [
        "filename = '/content/drive/MyDrive/Coding Dojo/Week_3/Data/2021 State of Remote Work - CompleteData.csv'\n",
        "remwork = pd.read_csv(filename, header=1)\n",
        "remwork.head()"
      ],
      "execution_count": 2,
      "outputs": [
        {
          "output_type": "execute_result",
          "data": {
            "text/html": [
              "<div>\n",
              "<style scoped>\n",
              "    .dataframe tbody tr th:only-of-type {\n",
              "        vertical-align: middle;\n",
              "    }\n",
              "\n",
              "    .dataframe tbody tr th {\n",
              "        vertical-align: top;\n",
              "    }\n",
              "\n",
              "    .dataframe thead th {\n",
              "        text-align: right;\n",
              "    }\n",
              "</style>\n",
              "<table border=\"1\" class=\"dataframe\">\n",
              "  <thead>\n",
              "    <tr style=\"text-align: right;\">\n",
              "      <th></th>\n",
              "      <th>Unnamed: 0</th>\n",
              "      <th>What country do you live in currently?</th>\n",
              "      <th>What industry do you work in?</th>\n",
              "      <th>Other</th>\n",
              "      <th>In the following list, what best describes the work you do?</th>\n",
              "      <th>Other.1</th>\n",
              "      <th>Which of the following best describes you?</th>\n",
              "      <th>Other.2</th>\n",
              "      <th>How long have you been in the workforce?</th>\n",
              "      <th>How long have you worked remotely?</th>\n",
              "      <th>Do you have a disability or chronic illness?</th>\n",
              "      <th>Is a disability or chronic illness one of the reasons you pursued remote work?</th>\n",
              "      <th>Are you a parent or caregiver?</th>\n",
              "      <th>Is being a parent or caregiver one of the reasons you pursued remote work?</th>\n",
              "      <th>Would you like to work remotely, at least some of the time, for the rest of your career?</th>\n",
              "      <th>Would you recommend remote work to others?</th>\n",
              "      <th>What’s your biggest struggle with working remotely?</th>\n",
              "      <th>Other.3</th>\n",
              "      <th>What’s the biggest benefit you see to working remotely?</th>\n",
              "      <th>Other.4</th>\n",
              "      <th>Are you working remotely as a result of COVID-19?</th>\n",
              "      <th>Is your company planning on permanently allowing remote work?</th>\n",
              "      <th>When will you be returning to your workspace and no longer be allowed to work remotely?</th>\n",
              "      <th>Was your company's transition to remote work smooth?</th>\n",
              "      <th>What made it smooth?</th>\n",
              "      <th>Why not?</th>\n",
              "      <th>What has changed the most about your work now that you work remotely?</th>\n",
              "      <th>Other.5</th>\n",
              "      <th>Would you say you are working less or more now that you work remotely?</th>\n",
              "      <th>Do you find you are in more meetings as a result of the shift to remote work?</th>\n",
              "      <th>Is there anything else you'd like to add about how your work has changed now that you work remotely?</th>\n",
              "      <th>Which description best suits you?</th>\n",
              "      <th>Is your company operating in multiple time zones?</th>\n",
              "      <th>How many time zones do employees at your company span?</th>\n",
              "      <th>Are people on your immediate team in multiple time zones?</th>\n",
              "      <th>Does your company encourage asynchronous communication? (Asynchronous communication simply means that work doesn’t happen at the same time for everyone. E.g. On video calls.)</th>\n",
              "      <th>How many full-time employees does your company have?</th>\n",
              "      <th>What percentage of your company works remotely?</th>\n",
              "      <th>If you work from home, does your company pay for your home internet?</th>\n",
              "      <th>\\nDoes your company pay for your cell phone?</th>\n",
              "      <th>Does your company cover the cost of a coworking membership?</th>\n",
              "      <th>Does your company cover your necessary hardware needs (e.g. a laptop or desktop computer)?</th>\n",
              "      <th>Does your company cover your necessary software needs?</th>\n",
              "      <th>Are there any other costs of working remotely that your company covers?</th>\n",
              "      <th>Anything else you want to add that we didn’t ask about?</th>\n",
              "    </tr>\n",
              "  </thead>\n",
              "  <tbody>\n",
              "    <tr>\n",
              "      <th>0</th>\n",
              "      <td>NaN</td>\n",
              "      <td>United States</td>\n",
              "      <td>Education</td>\n",
              "      <td>NaN</td>\n",
              "      <td>Leadership</td>\n",
              "      <td>NaN</td>\n",
              "      <td>Black or African American</td>\n",
              "      <td>NaN</td>\n",
              "      <td>10 years - 14 years</td>\n",
              "      <td>1 year to 4 years</td>\n",
              "      <td>0.0</td>\n",
              "      <td>NaN</td>\n",
              "      <td>1.0</td>\n",
              "      <td>0.0</td>\n",
              "      <td>1.0</td>\n",
              "      <td>1.0</td>\n",
              "      <td>Distractions at home</td>\n",
              "      <td>NaN</td>\n",
              "      <td>Ability to spend time with family</td>\n",
              "      <td>NaN</td>\n",
              "      <td>0.0</td>\n",
              "      <td>NaN</td>\n",
              "      <td>NaN</td>\n",
              "      <td>NaN</td>\n",
              "      <td>NaN</td>\n",
              "      <td>NaN</td>\n",
              "      <td>NaN</td>\n",
              "      <td>NaN</td>\n",
              "      <td>NaN</td>\n",
              "      <td>NaN</td>\n",
              "      <td>NaN</td>\n",
              "      <td>Employee</td>\n",
              "      <td>0.0</td>\n",
              "      <td>NaN</td>\n",
              "      <td>NaN</td>\n",
              "      <td>1.0</td>\n",
              "      <td>More than 1,001</td>\n",
              "      <td>100%</td>\n",
              "      <td>No</td>\n",
              "      <td>Partially</td>\n",
              "      <td>No</td>\n",
              "      <td>Yes</td>\n",
              "      <td>Yes</td>\n",
              "      <td>NaN</td>\n",
              "      <td>NaN</td>\n",
              "    </tr>\n",
              "    <tr>\n",
              "      <th>1</th>\n",
              "      <td>NaN</td>\n",
              "      <td>Canada</td>\n",
              "      <td>Software</td>\n",
              "      <td>NaN</td>\n",
              "      <td>NaN</td>\n",
              "      <td>Executive</td>\n",
              "      <td>White</td>\n",
              "      <td>NaN</td>\n",
              "      <td>15 years - 19 years</td>\n",
              "      <td>Less than six months</td>\n",
              "      <td>0.0</td>\n",
              "      <td>NaN</td>\n",
              "      <td>1.0</td>\n",
              "      <td>0.0</td>\n",
              "      <td>1.0</td>\n",
              "      <td>1.0</td>\n",
              "      <td>Difficulties with collaboration and communication</td>\n",
              "      <td>NaN</td>\n",
              "      <td>Not having to commute</td>\n",
              "      <td>NaN</td>\n",
              "      <td>1.0</td>\n",
              "      <td>Yes</td>\n",
              "      <td>NaN</td>\n",
              "      <td>1.0</td>\n",
              "      <td>Already well equites with remote software stack</td>\n",
              "      <td>NaN</td>\n",
              "      <td>My work hours</td>\n",
              "      <td>NaN</td>\n",
              "      <td>I'm working more</td>\n",
              "      <td>1.0</td>\n",
              "      <td>No</td>\n",
              "      <td>Employee</td>\n",
              "      <td>1.0</td>\n",
              "      <td>2-5 time zones</td>\n",
              "      <td>1.0</td>\n",
              "      <td>1.0</td>\n",
              "      <td>101 to 500</td>\n",
              "      <td>76 to 99%</td>\n",
              "      <td>No</td>\n",
              "      <td>Yes</td>\n",
              "      <td>No</td>\n",
              "      <td>Yes</td>\n",
              "      <td>Yes</td>\n",
              "      <td>No</td>\n",
              "      <td>No</td>\n",
              "    </tr>\n",
              "    <tr>\n",
              "      <th>2</th>\n",
              "      <td>NaN</td>\n",
              "      <td>India</td>\n",
              "      <td>IT and Services</td>\n",
              "      <td>NaN</td>\n",
              "      <td>Sales</td>\n",
              "      <td>NaN</td>\n",
              "      <td>Asian or Pacific Islander</td>\n",
              "      <td>NaN</td>\n",
              "      <td>5 years - 9 years</td>\n",
              "      <td>6 months to 11 months</td>\n",
              "      <td>0.0</td>\n",
              "      <td>NaN</td>\n",
              "      <td>1.0</td>\n",
              "      <td>1.0</td>\n",
              "      <td>1.0</td>\n",
              "      <td>1.0</td>\n",
              "      <td>Distractions at home</td>\n",
              "      <td>NaN</td>\n",
              "      <td>Ability to spend time with family</td>\n",
              "      <td>NaN</td>\n",
              "      <td>1.0</td>\n",
              "      <td>I don't know</td>\n",
              "      <td>NaN</td>\n",
              "      <td>1.0</td>\n",
              "      <td>Nature of business</td>\n",
              "      <td>NaN</td>\n",
              "      <td>I’m now acting as my child(ren)’s caretaker/te...</td>\n",
              "      <td>NaN</td>\n",
              "      <td>I'm working more</td>\n",
              "      <td>0.0</td>\n",
              "      <td>As much as I love work from home, the nature o...</td>\n",
              "      <td>Employee</td>\n",
              "      <td>1.0</td>\n",
              "      <td>2-5 time zones</td>\n",
              "      <td>1.0</td>\n",
              "      <td>0.0</td>\n",
              "      <td>51 to 100</td>\n",
              "      <td>100%</td>\n",
              "      <td>Partially</td>\n",
              "      <td>No</td>\n",
              "      <td>No</td>\n",
              "      <td>Yes</td>\n",
              "      <td>Yes</td>\n",
              "      <td>No</td>\n",
              "      <td>Nope!</td>\n",
              "    </tr>\n",
              "    <tr>\n",
              "      <th>3</th>\n",
              "      <td>NaN</td>\n",
              "      <td>Brazil</td>\n",
              "      <td>NaN</td>\n",
              "      <td>Energy</td>\n",
              "      <td>Leadership</td>\n",
              "      <td>NaN</td>\n",
              "      <td>Hispanic or Latino</td>\n",
              "      <td>NaN</td>\n",
              "      <td>5 years - 9 years</td>\n",
              "      <td>1 year to 4 years</td>\n",
              "      <td>0.0</td>\n",
              "      <td>NaN</td>\n",
              "      <td>1.0</td>\n",
              "      <td>1.0</td>\n",
              "      <td>1.0</td>\n",
              "      <td>1.0</td>\n",
              "      <td>Not being able to unplug</td>\n",
              "      <td>NaN</td>\n",
              "      <td>Flexibility to work from any location</td>\n",
              "      <td>NaN</td>\n",
              "      <td>0.0</td>\n",
              "      <td>NaN</td>\n",
              "      <td>NaN</td>\n",
              "      <td>NaN</td>\n",
              "      <td>NaN</td>\n",
              "      <td>NaN</td>\n",
              "      <td>NaN</td>\n",
              "      <td>NaN</td>\n",
              "      <td>NaN</td>\n",
              "      <td>NaN</td>\n",
              "      <td>NaN</td>\n",
              "      <td>Freelancer / Self-employed</td>\n",
              "      <td>NaN</td>\n",
              "      <td>NaN</td>\n",
              "      <td>NaN</td>\n",
              "      <td>NaN</td>\n",
              "      <td>NaN</td>\n",
              "      <td>NaN</td>\n",
              "      <td>NaN</td>\n",
              "      <td>NaN</td>\n",
              "      <td>NaN</td>\n",
              "      <td>NaN</td>\n",
              "      <td>NaN</td>\n",
              "      <td>NaN</td>\n",
              "      <td>NaN</td>\n",
              "    </tr>\n",
              "    <tr>\n",
              "      <th>4</th>\n",
              "      <td>NaN</td>\n",
              "      <td>United States</td>\n",
              "      <td>IT and Services</td>\n",
              "      <td>NaN</td>\n",
              "      <td>Customer Support</td>\n",
              "      <td>NaN</td>\n",
              "      <td>White</td>\n",
              "      <td>NaN</td>\n",
              "      <td>More than 20 years</td>\n",
              "      <td>More than 10 years</td>\n",
              "      <td>0.0</td>\n",
              "      <td>NaN</td>\n",
              "      <td>0.0</td>\n",
              "      <td>NaN</td>\n",
              "      <td>1.0</td>\n",
              "      <td>1.0</td>\n",
              "      <td>Not being able to unplug</td>\n",
              "      <td>NaN</td>\n",
              "      <td>Flexibility to work from any location</td>\n",
              "      <td>NaN</td>\n",
              "      <td>1.0</td>\n",
              "      <td>Yes</td>\n",
              "      <td>NaN</td>\n",
              "      <td>1.0</td>\n",
              "      <td>Self-employed IT Consultant</td>\n",
              "      <td>NaN</td>\n",
              "      <td>My work hours</td>\n",
              "      <td>NaN</td>\n",
              "      <td>I'm working the same amount</td>\n",
              "      <td>0.0</td>\n",
              "      <td>Some Users Don't Realize The Amount Of Work</td>\n",
              "      <td>Freelancer / Self-employed</td>\n",
              "      <td>NaN</td>\n",
              "      <td>NaN</td>\n",
              "      <td>NaN</td>\n",
              "      <td>NaN</td>\n",
              "      <td>NaN</td>\n",
              "      <td>NaN</td>\n",
              "      <td>NaN</td>\n",
              "      <td>NaN</td>\n",
              "      <td>NaN</td>\n",
              "      <td>NaN</td>\n",
              "      <td>NaN</td>\n",
              "      <td>NaN</td>\n",
              "      <td>No</td>\n",
              "    </tr>\n",
              "  </tbody>\n",
              "</table>\n",
              "</div>"
            ],
            "text/plain": [
              "   Unnamed: 0  ... Anything else you want to add that we didn’t ask about?\n",
              "0         NaN  ...                                                NaN     \n",
              "1         NaN  ...                                                 No     \n",
              "2         NaN  ...                                              Nope!     \n",
              "3         NaN  ...                                                NaN     \n",
              "4         NaN  ...                                                 No     \n",
              "\n",
              "[5 rows x 45 columns]"
            ]
          },
          "metadata": {
            "tags": []
          },
          "execution_count": 2
        }
      ]
    },
    {
      "cell_type": "code",
      "metadata": {
        "id": "I9FyxRbuEsJM",
        "colab": {
          "base_uri": "https://localhost:8080/"
        },
        "outputId": "c6c369d7-55ee-4037-d1e9-8109cee7a8e1"
      },
      "source": [
        "remwork.info()"
      ],
      "execution_count": 3,
      "outputs": [
        {
          "output_type": "stream",
          "text": [
            "<class 'pandas.core.frame.DataFrame'>\n",
            "RangeIndex: 2246 entries, 0 to 2245\n",
            "Data columns (total 45 columns):\n",
            " #   Column                                                                                                                                                                          Non-Null Count  Dtype  \n",
            "---  ------                                                                                                                                                                          --------------  -----  \n",
            " 0   Unnamed: 0                                                                                                                                                                      0 non-null      float64\n",
            " 1   What country do you live in currently?                                                                                                                                          2218 non-null   object \n",
            " 2   What industry do you work in?                                                                                                                                                   2069 non-null   object \n",
            " 3   Other                                                                                                                                                                           149 non-null    object \n",
            " 4   In the following list, what best describes the work you do?                                                                                                                     2086 non-null   object \n",
            " 5   Other.1                                                                                                                                                                         132 non-null    object \n",
            " 6   Which of the following best describes you?                                                                                                                                      2160 non-null   object \n",
            " 7   Other.2                                                                                                                                                                         56 non-null     object \n",
            " 8   How long have you been in the workforce?                                                                                                                                        2218 non-null   object \n",
            " 9   How long have you worked remotely?                                                                                                                                              2218 non-null   object \n",
            " 10  Do you have a disability or chronic illness?                                                                                                                                    2216 non-null   float64\n",
            " 11  Is a disability or chronic illness one of the reasons you pursued remote work?                                                                                                  185 non-null    float64\n",
            " 12  Are you a parent or caregiver?                                                                                                                                                  2213 non-null   float64\n",
            " 13  Is being a parent or caregiver one of the reasons you pursued remote work?                                                                                                      782 non-null    float64\n",
            " 14  Would you like to work remotely, at least some of the time, for the rest of your career?                                                                                        2218 non-null   float64\n",
            " 15  Would you recommend remote work to others?                                                                                                                                      2218 non-null   float64\n",
            " 16  What’s your biggest struggle with working remotely?                                                                                                                             2062 non-null   object \n",
            " 17  Other.3                                                                                                                                                                         156 non-null    object \n",
            " 18  What’s the biggest benefit you see to working remotely?                                                                                                                         2174 non-null   object \n",
            " 19  Other.4                                                                                                                                                                         44 non-null     object \n",
            " 20  Are you working remotely as a result of COVID-19?                                                                                                                               2218 non-null   float64\n",
            " 21  Is your company planning on permanently allowing remote work?                                                                                                                   977 non-null    object \n",
            " 22  When will you be returning to your workspace and no longer be allowed to work remotely?                                                                                         157 non-null    object \n",
            " 23  Was your company's transition to remote work smooth?                                                                                                                            990 non-null    float64\n",
            " 24  What made it smooth?                                                                                                                                                            765 non-null    object \n",
            " 25  Why not?                                                                                                                                                                        165 non-null    object \n",
            " 26  What has changed the most about your work now that you work remotely?                                                                                                           958 non-null    object \n",
            " 27  Other.5                                                                                                                                                                         27 non-null     object \n",
            " 28  Would you say you are working less or more now that you work remotely?                                                                                                          989 non-null    object \n",
            " 29  Do you find you are in more meetings as a result of the shift to remote work?                                                                                                   987 non-null    float64\n",
            " 30  Is there anything else you'd like to add about how your work has changed now that you work remotely?                                                                            693 non-null    object \n",
            " 31  Which description best suits you?                                                                                                                                               2218 non-null   object \n",
            " 32  Is your company operating in multiple time zones?                                                                                                                               1834 non-null   float64\n",
            " 33  How many time zones do employees at your company span?                                                                                                                          1329 non-null   object \n",
            " 34  Are people on your immediate team in multiple time zones?                                                                                                                       1329 non-null   float64\n",
            " 35  Does your company encourage asynchronous communication? (Asynchronous communication simply means that work doesn’t happen at the same time for everyone. E.g. On video calls.)  1830 non-null   float64\n",
            " 36  How many full-time employees does your company have?                                                                                                                            1835 non-null   object \n",
            " 37  What percentage of your company works remotely?                                                                                                                                 1824 non-null   object \n",
            " 38  If you work from home, does your company pay for your home internet?                                                                                                            1821 non-null   object \n",
            " 39  \n",
            "Does your company pay for your cell phone?                                                                                                                                     1821 non-null   object \n",
            " 40  Does your company cover the cost of a coworking membership?                                                                                                                     1823 non-null   object \n",
            " 41  Does your company cover your necessary hardware needs (e.g. a laptop or desktop computer)?                                                                                      1818 non-null   object \n",
            " 42  Does your company cover your necessary software needs?                                                                                                                          1823 non-null   object \n",
            " 43  Are there any other costs of working remotely that your company covers?                                                                                                         1208 non-null   object \n",
            " 44  Anything else you want to add that we didn’t ask about?                                                                                                                         1377 non-null   object \n",
            "dtypes: float64(13), object(32)\n",
            "memory usage: 789.7+ KB\n"
          ],
          "name": "stdout"
        }
      ]
    },
    {
      "cell_type": "code",
      "metadata": {
        "colab": {
          "base_uri": "https://localhost:8080/"
        },
        "id": "foWjbG8gTown",
        "outputId": "27fdf370-da36-410d-8cfd-30fd26e153d0"
      },
      "source": [
        "remwork[\"Is there anything else you'd like to add about how your work has changed now that you work remotely?\"].value_counts()"
      ],
      "execution_count": 4,
      "outputs": [
        {
          "output_type": "execute_result",
          "data": {
            "text/plain": [
              "No                                                                                                                                                                                        124\n",
              "no                                                                                                                                                                                         36\n",
              "Nope                                                                                                                                                                                        7\n",
              "Nothing                                                                                                                                                                                     5\n",
              ".                                                                                                                                                                                           5\n",
              "                                                                                                                                                                                         ... \n",
              "More intense communication with colleagues.                                                                                                                                                 1\n",
              "It has become much more difficult to know what is going on around the org                                                                                                                   1\n",
              "I find it very unmotivating, lonely and unpleasant                                                                                                                                          1\n",
              "My life is better, more time with my family and I am a better employee                                                                                                                      1\n",
              "I refuse to go back to an employer that will require me to be in an office everyday from now on. I will only be considering job opportunities that are full-time remote going forward.      1\n",
              "Name: Is there anything else you'd like to add about how your work has changed now that you work remotely?, Length: 509, dtype: int64"
            ]
          },
          "metadata": {
            "tags": []
          },
          "execution_count": 4
        }
      ]
    },
    {
      "cell_type": "code",
      "metadata": {
        "colab": {
          "base_uri": "https://localhost:8080/"
        },
        "id": "3V0OeyKoWGZG",
        "outputId": "f604c8fc-2adb-4272-d85c-1aeea4045741"
      },
      "source": [
        "remwork['Anything else you want to add that we didn’t ask about?'].value_counts()"
      ],
      "execution_count": 5,
      "outputs": [
        {
          "output_type": "execute_result",
          "data": {
            "text/plain": [
              "No                                                                                                                                                                        455\n",
              "no                                                                                                                                                                        198\n",
              "Nope                                                                                                                                                                       70\n",
              "nope                                                                                                                                                                       35\n",
              "-                                                                                                                                                                          20\n",
              "                                                                                                                                                                         ... \n",
              "We are only remote right now because of Covid. Prior to Covid it was 2 days per month. After Covid it’ll be 2 days per week.                                                1\n",
              "this survey wasn't well-structured :(                                                                                                                                       1\n",
              "Love the time I save overall                                                                                                                                                1\n",
              "I started to see the physiotherapist because of bad ergonomic setup plus issues with RSI. :( This is common among other friends who have been forced to become remote.      1\n",
              "My company doesn't cover food, I used to have a free cantine for breakfast, lunch and dinner, which is a big bummer                                                         1\n",
              "Name: Anything else you want to add that we didn’t ask about?, Length: 505, dtype: int64"
            ]
          },
          "metadata": {
            "tags": []
          },
          "execution_count": 5
        }
      ]
    },
    {
      "cell_type": "code",
      "metadata": {
        "id": "mQPT2qpDSppy"
      },
      "source": [
        "remote = remwork.drop(columns = (['Unnamed: 0', 'Anything else you want to add that we didn’t ask about?', \"Is there anything else you'd like to add about how your work has changed now that you work remotely?\"]))"
      ],
      "execution_count": 6,
      "outputs": []
    },
    {
      "cell_type": "code",
      "metadata": {
        "id": "Ir1AR_zNM-_o"
      },
      "source": [
        "remote.dropna(how='all', inplace=True)"
      ],
      "execution_count": 8,
      "outputs": []
    },
    {
      "cell_type": "code",
      "metadata": {
        "colab": {
          "base_uri": "https://localhost:8080/",
          "height": 746
        },
        "id": "bbLclrd1USjr",
        "outputId": "945c478e-6e26-49c8-93f3-df5ae7f42800"
      },
      "source": [
        "remote.head()"
      ],
      "execution_count": 9,
      "outputs": [
        {
          "output_type": "execute_result",
          "data": {
            "text/html": [
              "<div>\n",
              "<style scoped>\n",
              "    .dataframe tbody tr th:only-of-type {\n",
              "        vertical-align: middle;\n",
              "    }\n",
              "\n",
              "    .dataframe tbody tr th {\n",
              "        vertical-align: top;\n",
              "    }\n",
              "\n",
              "    .dataframe thead th {\n",
              "        text-align: right;\n",
              "    }\n",
              "</style>\n",
              "<table border=\"1\" class=\"dataframe\">\n",
              "  <thead>\n",
              "    <tr style=\"text-align: right;\">\n",
              "      <th></th>\n",
              "      <th>What country do you live in currently?</th>\n",
              "      <th>What industry do you work in?</th>\n",
              "      <th>Other</th>\n",
              "      <th>In the following list, what best describes the work you do?</th>\n",
              "      <th>Other.1</th>\n",
              "      <th>Which of the following best describes you?</th>\n",
              "      <th>Other.2</th>\n",
              "      <th>How long have you been in the workforce?</th>\n",
              "      <th>How long have you worked remotely?</th>\n",
              "      <th>Do you have a disability or chronic illness?</th>\n",
              "      <th>Is a disability or chronic illness one of the reasons you pursued remote work?</th>\n",
              "      <th>Are you a parent or caregiver?</th>\n",
              "      <th>Is being a parent or caregiver one of the reasons you pursued remote work?</th>\n",
              "      <th>Would you like to work remotely, at least some of the time, for the rest of your career?</th>\n",
              "      <th>Would you recommend remote work to others?</th>\n",
              "      <th>What’s your biggest struggle with working remotely?</th>\n",
              "      <th>Other.3</th>\n",
              "      <th>What’s the biggest benefit you see to working remotely?</th>\n",
              "      <th>Other.4</th>\n",
              "      <th>Are you working remotely as a result of COVID-19?</th>\n",
              "      <th>Is your company planning on permanently allowing remote work?</th>\n",
              "      <th>When will you be returning to your workspace and no longer be allowed to work remotely?</th>\n",
              "      <th>Was your company's transition to remote work smooth?</th>\n",
              "      <th>What made it smooth?</th>\n",
              "      <th>Why not?</th>\n",
              "      <th>What has changed the most about your work now that you work remotely?</th>\n",
              "      <th>Other.5</th>\n",
              "      <th>Would you say you are working less or more now that you work remotely?</th>\n",
              "      <th>Do you find you are in more meetings as a result of the shift to remote work?</th>\n",
              "      <th>Which description best suits you?</th>\n",
              "      <th>Is your company operating in multiple time zones?</th>\n",
              "      <th>How many time zones do employees at your company span?</th>\n",
              "      <th>Are people on your immediate team in multiple time zones?</th>\n",
              "      <th>Does your company encourage asynchronous communication? (Asynchronous communication simply means that work doesn’t happen at the same time for everyone. E.g. On video calls.)</th>\n",
              "      <th>How many full-time employees does your company have?</th>\n",
              "      <th>What percentage of your company works remotely?</th>\n",
              "      <th>If you work from home, does your company pay for your home internet?</th>\n",
              "      <th>\\nDoes your company pay for your cell phone?</th>\n",
              "      <th>Does your company cover the cost of a coworking membership?</th>\n",
              "      <th>Does your company cover your necessary hardware needs (e.g. a laptop or desktop computer)?</th>\n",
              "      <th>Does your company cover your necessary software needs?</th>\n",
              "      <th>Are there any other costs of working remotely that your company covers?</th>\n",
              "    </tr>\n",
              "  </thead>\n",
              "  <tbody>\n",
              "    <tr>\n",
              "      <th>0</th>\n",
              "      <td>United States</td>\n",
              "      <td>Education</td>\n",
              "      <td>NaN</td>\n",
              "      <td>Leadership</td>\n",
              "      <td>NaN</td>\n",
              "      <td>Black or African American</td>\n",
              "      <td>NaN</td>\n",
              "      <td>10 years - 14 years</td>\n",
              "      <td>1 year to 4 years</td>\n",
              "      <td>0.0</td>\n",
              "      <td>NaN</td>\n",
              "      <td>1.0</td>\n",
              "      <td>0.0</td>\n",
              "      <td>1.0</td>\n",
              "      <td>1.0</td>\n",
              "      <td>Distractions at home</td>\n",
              "      <td>NaN</td>\n",
              "      <td>Ability to spend time with family</td>\n",
              "      <td>NaN</td>\n",
              "      <td>0.0</td>\n",
              "      <td>NaN</td>\n",
              "      <td>NaN</td>\n",
              "      <td>NaN</td>\n",
              "      <td>NaN</td>\n",
              "      <td>NaN</td>\n",
              "      <td>NaN</td>\n",
              "      <td>NaN</td>\n",
              "      <td>NaN</td>\n",
              "      <td>NaN</td>\n",
              "      <td>Employee</td>\n",
              "      <td>0.0</td>\n",
              "      <td>NaN</td>\n",
              "      <td>NaN</td>\n",
              "      <td>1.0</td>\n",
              "      <td>More than 1,001</td>\n",
              "      <td>100%</td>\n",
              "      <td>No</td>\n",
              "      <td>Partially</td>\n",
              "      <td>No</td>\n",
              "      <td>Yes</td>\n",
              "      <td>Yes</td>\n",
              "      <td>NaN</td>\n",
              "    </tr>\n",
              "    <tr>\n",
              "      <th>1</th>\n",
              "      <td>Canada</td>\n",
              "      <td>Software</td>\n",
              "      <td>NaN</td>\n",
              "      <td>NaN</td>\n",
              "      <td>Executive</td>\n",
              "      <td>White</td>\n",
              "      <td>NaN</td>\n",
              "      <td>15 years - 19 years</td>\n",
              "      <td>Less than six months</td>\n",
              "      <td>0.0</td>\n",
              "      <td>NaN</td>\n",
              "      <td>1.0</td>\n",
              "      <td>0.0</td>\n",
              "      <td>1.0</td>\n",
              "      <td>1.0</td>\n",
              "      <td>Difficulties with collaboration and communication</td>\n",
              "      <td>NaN</td>\n",
              "      <td>Not having to commute</td>\n",
              "      <td>NaN</td>\n",
              "      <td>1.0</td>\n",
              "      <td>Yes</td>\n",
              "      <td>NaN</td>\n",
              "      <td>1.0</td>\n",
              "      <td>Already well equites with remote software stack</td>\n",
              "      <td>NaN</td>\n",
              "      <td>My work hours</td>\n",
              "      <td>NaN</td>\n",
              "      <td>I'm working more</td>\n",
              "      <td>1.0</td>\n",
              "      <td>Employee</td>\n",
              "      <td>1.0</td>\n",
              "      <td>2-5 time zones</td>\n",
              "      <td>1.0</td>\n",
              "      <td>1.0</td>\n",
              "      <td>101 to 500</td>\n",
              "      <td>76 to 99%</td>\n",
              "      <td>No</td>\n",
              "      <td>Yes</td>\n",
              "      <td>No</td>\n",
              "      <td>Yes</td>\n",
              "      <td>Yes</td>\n",
              "      <td>No</td>\n",
              "    </tr>\n",
              "    <tr>\n",
              "      <th>2</th>\n",
              "      <td>India</td>\n",
              "      <td>IT and Services</td>\n",
              "      <td>NaN</td>\n",
              "      <td>Sales</td>\n",
              "      <td>NaN</td>\n",
              "      <td>Asian or Pacific Islander</td>\n",
              "      <td>NaN</td>\n",
              "      <td>5 years - 9 years</td>\n",
              "      <td>6 months to 11 months</td>\n",
              "      <td>0.0</td>\n",
              "      <td>NaN</td>\n",
              "      <td>1.0</td>\n",
              "      <td>1.0</td>\n",
              "      <td>1.0</td>\n",
              "      <td>1.0</td>\n",
              "      <td>Distractions at home</td>\n",
              "      <td>NaN</td>\n",
              "      <td>Ability to spend time with family</td>\n",
              "      <td>NaN</td>\n",
              "      <td>1.0</td>\n",
              "      <td>I don't know</td>\n",
              "      <td>NaN</td>\n",
              "      <td>1.0</td>\n",
              "      <td>Nature of business</td>\n",
              "      <td>NaN</td>\n",
              "      <td>I’m now acting as my child(ren)’s caretaker/te...</td>\n",
              "      <td>NaN</td>\n",
              "      <td>I'm working more</td>\n",
              "      <td>0.0</td>\n",
              "      <td>Employee</td>\n",
              "      <td>1.0</td>\n",
              "      <td>2-5 time zones</td>\n",
              "      <td>1.0</td>\n",
              "      <td>0.0</td>\n",
              "      <td>51 to 100</td>\n",
              "      <td>100%</td>\n",
              "      <td>Partially</td>\n",
              "      <td>No</td>\n",
              "      <td>No</td>\n",
              "      <td>Yes</td>\n",
              "      <td>Yes</td>\n",
              "      <td>No</td>\n",
              "    </tr>\n",
              "    <tr>\n",
              "      <th>3</th>\n",
              "      <td>Brazil</td>\n",
              "      <td>NaN</td>\n",
              "      <td>Energy</td>\n",
              "      <td>Leadership</td>\n",
              "      <td>NaN</td>\n",
              "      <td>Hispanic or Latino</td>\n",
              "      <td>NaN</td>\n",
              "      <td>5 years - 9 years</td>\n",
              "      <td>1 year to 4 years</td>\n",
              "      <td>0.0</td>\n",
              "      <td>NaN</td>\n",
              "      <td>1.0</td>\n",
              "      <td>1.0</td>\n",
              "      <td>1.0</td>\n",
              "      <td>1.0</td>\n",
              "      <td>Not being able to unplug</td>\n",
              "      <td>NaN</td>\n",
              "      <td>Flexibility to work from any location</td>\n",
              "      <td>NaN</td>\n",
              "      <td>0.0</td>\n",
              "      <td>NaN</td>\n",
              "      <td>NaN</td>\n",
              "      <td>NaN</td>\n",
              "      <td>NaN</td>\n",
              "      <td>NaN</td>\n",
              "      <td>NaN</td>\n",
              "      <td>NaN</td>\n",
              "      <td>NaN</td>\n",
              "      <td>NaN</td>\n",
              "      <td>Freelancer / Self-employed</td>\n",
              "      <td>NaN</td>\n",
              "      <td>NaN</td>\n",
              "      <td>NaN</td>\n",
              "      <td>NaN</td>\n",
              "      <td>NaN</td>\n",
              "      <td>NaN</td>\n",
              "      <td>NaN</td>\n",
              "      <td>NaN</td>\n",
              "      <td>NaN</td>\n",
              "      <td>NaN</td>\n",
              "      <td>NaN</td>\n",
              "      <td>NaN</td>\n",
              "    </tr>\n",
              "    <tr>\n",
              "      <th>4</th>\n",
              "      <td>United States</td>\n",
              "      <td>IT and Services</td>\n",
              "      <td>NaN</td>\n",
              "      <td>Customer Support</td>\n",
              "      <td>NaN</td>\n",
              "      <td>White</td>\n",
              "      <td>NaN</td>\n",
              "      <td>More than 20 years</td>\n",
              "      <td>More than 10 years</td>\n",
              "      <td>0.0</td>\n",
              "      <td>NaN</td>\n",
              "      <td>0.0</td>\n",
              "      <td>NaN</td>\n",
              "      <td>1.0</td>\n",
              "      <td>1.0</td>\n",
              "      <td>Not being able to unplug</td>\n",
              "      <td>NaN</td>\n",
              "      <td>Flexibility to work from any location</td>\n",
              "      <td>NaN</td>\n",
              "      <td>1.0</td>\n",
              "      <td>Yes</td>\n",
              "      <td>NaN</td>\n",
              "      <td>1.0</td>\n",
              "      <td>Self-employed IT Consultant</td>\n",
              "      <td>NaN</td>\n",
              "      <td>My work hours</td>\n",
              "      <td>NaN</td>\n",
              "      <td>I'm working the same amount</td>\n",
              "      <td>0.0</td>\n",
              "      <td>Freelancer / Self-employed</td>\n",
              "      <td>NaN</td>\n",
              "      <td>NaN</td>\n",
              "      <td>NaN</td>\n",
              "      <td>NaN</td>\n",
              "      <td>NaN</td>\n",
              "      <td>NaN</td>\n",
              "      <td>NaN</td>\n",
              "      <td>NaN</td>\n",
              "      <td>NaN</td>\n",
              "      <td>NaN</td>\n",
              "      <td>NaN</td>\n",
              "      <td>NaN</td>\n",
              "    </tr>\n",
              "  </tbody>\n",
              "</table>\n",
              "</div>"
            ],
            "text/plain": [
              "  What country do you live in currently?  ... Are there any other costs of working remotely that your company covers?\n",
              "0                          United States  ...                                                NaN                     \n",
              "1                                 Canada  ...                                                 No                     \n",
              "2                                  India  ...                                                 No                     \n",
              "3                                 Brazil  ...                                                NaN                     \n",
              "4                          United States  ...                                                NaN                     \n",
              "\n",
              "[5 rows x 42 columns]"
            ]
          },
          "metadata": {
            "tags": []
          },
          "execution_count": 9
        }
      ]
    },
    {
      "cell_type": "code",
      "metadata": {
        "colab": {
          "base_uri": "https://localhost:8080/"
        },
        "id": "JCUs1qHFwr7S",
        "outputId": "efcacc36-330b-431d-9955-7bf333556706"
      },
      "source": [
        "otherind_filter = remote['Other']\n",
        "otherind_filter.value_counts()"
      ],
      "execution_count": 10,
      "outputs": [
        {
          "output_type": "execute_result",
          "data": {
            "text/plain": [
              "Consulting                     8\n",
              "Energy                         5\n",
              "Manufacturing                  5\n",
              "HR                             3\n",
              "Real Estate                    3\n",
              "                              ..\n",
              "fitness                        1\n",
              "Construction + Real Estate     1\n",
              "Events & Marketing             1\n",
              "Tech - community management    1\n",
              "administrative                 1\n",
              "Name: Other, Length: 114, dtype: int64"
            ]
          },
          "metadata": {
            "tags": []
          },
          "execution_count": 10
        }
      ]
    },
    {
      "cell_type": "code",
      "metadata": {
        "id": "9go2acJLw91p"
      },
      "source": [
        "remote = remote.rename(columns= {'What industry do you work in?' : 'What_industry',\n",
        "                       'In the following list, what best describes the work you do?' : 'Job_desc',\n",
        "                       'How long have you been in the workforce?' : 'Total_years_worked',\n",
        "                       'How long have you worked remotely?' : 'Years_worked_remotely'})"
      ],
      "execution_count": 11,
      "outputs": []
    },
    {
      "cell_type": "code",
      "metadata": {
        "colab": {
          "base_uri": "https://localhost:8080/"
        },
        "id": "ZpVr2aLNyjQ5",
        "outputId": "befac91b-b43f-49fc-d943-ef456607cd72"
      },
      "source": [
        "remote['What_industry'] = remote['What_industry'].fillna(' ')\n",
        "print(remote['What_industry'].value_counts())\n",
        "print(remote['What_industry'].count())"
      ],
      "execution_count": 12,
      "outputs": [
        {
          "output_type": "stream",
          "text": [
            "Software                  821\n",
            "IT and Services           403\n",
            "Marketing                 240\n",
            "                          149\n",
            "Financial Services        111\n",
            "Education                  95\n",
            "Media and Publishing       87\n",
            "Non-profit                 76\n",
            "E-commerce                 57\n",
            "Consumer products          56\n",
            "Medical and Healthcare     47\n",
            "Government                 37\n",
            "Travel and Tourism         29\n",
            "Law and Legal Services     10\n",
            "Name: What_industry, dtype: int64\n",
            "2218\n"
          ],
          "name": "stdout"
        }
      ]
    },
    {
      "cell_type": "code",
      "metadata": {
        "colab": {
          "base_uri": "https://localhost:8080/"
        },
        "id": "qGW2lkfZ0aJQ",
        "outputId": "9c63e511-5606-494b-9929-b3b1d3c10806"
      },
      "source": [
        "remote['Other'] = remote['Other'].fillna(' ')\n",
        "remote['Other'].value_counts()"
      ],
      "execution_count": 13,
      "outputs": [
        {
          "output_type": "execute_result",
          "data": {
            "text/plain": [
              "                               2069\n",
              "Consulting                        8\n",
              "Energy                            5\n",
              "Manufacturing                     5\n",
              "HR                                3\n",
              "                               ... \n",
              "fitness                           1\n",
              "Construction + Real Estate        1\n",
              "Events & Marketing                1\n",
              "Tech - community management       1\n",
              "administrative                    1\n",
              "Name: Other, Length: 115, dtype: int64"
            ]
          },
          "metadata": {
            "tags": []
          },
          "execution_count": 13
        }
      ]
    },
    {
      "cell_type": "code",
      "metadata": {
        "colab": {
          "base_uri": "https://localhost:8080/",
          "height": 746
        },
        "id": "ZHflUio0_S4T",
        "outputId": "ba5d5414-9e4d-4294-94b0-51137bfdaa3e"
      },
      "source": [
        "remote.insert(3, 'Industry', remote['What_industry'] + ' ' + remote['Other'])\n",
        "remote.head()"
      ],
      "execution_count": 14,
      "outputs": [
        {
          "output_type": "execute_result",
          "data": {
            "text/html": [
              "<div>\n",
              "<style scoped>\n",
              "    .dataframe tbody tr th:only-of-type {\n",
              "        vertical-align: middle;\n",
              "    }\n",
              "\n",
              "    .dataframe tbody tr th {\n",
              "        vertical-align: top;\n",
              "    }\n",
              "\n",
              "    .dataframe thead th {\n",
              "        text-align: right;\n",
              "    }\n",
              "</style>\n",
              "<table border=\"1\" class=\"dataframe\">\n",
              "  <thead>\n",
              "    <tr style=\"text-align: right;\">\n",
              "      <th></th>\n",
              "      <th>What country do you live in currently?</th>\n",
              "      <th>What_industry</th>\n",
              "      <th>Other</th>\n",
              "      <th>Industry</th>\n",
              "      <th>Job_desc</th>\n",
              "      <th>Other.1</th>\n",
              "      <th>Which of the following best describes you?</th>\n",
              "      <th>Other.2</th>\n",
              "      <th>Total_years_worked</th>\n",
              "      <th>Years_worked_remotely</th>\n",
              "      <th>Do you have a disability or chronic illness?</th>\n",
              "      <th>Is a disability or chronic illness one of the reasons you pursued remote work?</th>\n",
              "      <th>Are you a parent or caregiver?</th>\n",
              "      <th>Is being a parent or caregiver one of the reasons you pursued remote work?</th>\n",
              "      <th>Would you like to work remotely, at least some of the time, for the rest of your career?</th>\n",
              "      <th>Would you recommend remote work to others?</th>\n",
              "      <th>What’s your biggest struggle with working remotely?</th>\n",
              "      <th>Other.3</th>\n",
              "      <th>What’s the biggest benefit you see to working remotely?</th>\n",
              "      <th>Other.4</th>\n",
              "      <th>Are you working remotely as a result of COVID-19?</th>\n",
              "      <th>Is your company planning on permanently allowing remote work?</th>\n",
              "      <th>When will you be returning to your workspace and no longer be allowed to work remotely?</th>\n",
              "      <th>Was your company's transition to remote work smooth?</th>\n",
              "      <th>What made it smooth?</th>\n",
              "      <th>Why not?</th>\n",
              "      <th>What has changed the most about your work now that you work remotely?</th>\n",
              "      <th>Other.5</th>\n",
              "      <th>Would you say you are working less or more now that you work remotely?</th>\n",
              "      <th>Do you find you are in more meetings as a result of the shift to remote work?</th>\n",
              "      <th>Which description best suits you?</th>\n",
              "      <th>Is your company operating in multiple time zones?</th>\n",
              "      <th>How many time zones do employees at your company span?</th>\n",
              "      <th>Are people on your immediate team in multiple time zones?</th>\n",
              "      <th>Does your company encourage asynchronous communication? (Asynchronous communication simply means that work doesn’t happen at the same time for everyone. E.g. On video calls.)</th>\n",
              "      <th>How many full-time employees does your company have?</th>\n",
              "      <th>What percentage of your company works remotely?</th>\n",
              "      <th>If you work from home, does your company pay for your home internet?</th>\n",
              "      <th>\\nDoes your company pay for your cell phone?</th>\n",
              "      <th>Does your company cover the cost of a coworking membership?</th>\n",
              "      <th>Does your company cover your necessary hardware needs (e.g. a laptop or desktop computer)?</th>\n",
              "      <th>Does your company cover your necessary software needs?</th>\n",
              "      <th>Are there any other costs of working remotely that your company covers?</th>\n",
              "    </tr>\n",
              "  </thead>\n",
              "  <tbody>\n",
              "    <tr>\n",
              "      <th>0</th>\n",
              "      <td>United States</td>\n",
              "      <td>Education</td>\n",
              "      <td></td>\n",
              "      <td>Education</td>\n",
              "      <td>Leadership</td>\n",
              "      <td>NaN</td>\n",
              "      <td>Black or African American</td>\n",
              "      <td>NaN</td>\n",
              "      <td>10 years - 14 years</td>\n",
              "      <td>1 year to 4 years</td>\n",
              "      <td>0.0</td>\n",
              "      <td>NaN</td>\n",
              "      <td>1.0</td>\n",
              "      <td>0.0</td>\n",
              "      <td>1.0</td>\n",
              "      <td>1.0</td>\n",
              "      <td>Distractions at home</td>\n",
              "      <td>NaN</td>\n",
              "      <td>Ability to spend time with family</td>\n",
              "      <td>NaN</td>\n",
              "      <td>0.0</td>\n",
              "      <td>NaN</td>\n",
              "      <td>NaN</td>\n",
              "      <td>NaN</td>\n",
              "      <td>NaN</td>\n",
              "      <td>NaN</td>\n",
              "      <td>NaN</td>\n",
              "      <td>NaN</td>\n",
              "      <td>NaN</td>\n",
              "      <td>NaN</td>\n",
              "      <td>Employee</td>\n",
              "      <td>0.0</td>\n",
              "      <td>NaN</td>\n",
              "      <td>NaN</td>\n",
              "      <td>1.0</td>\n",
              "      <td>More than 1,001</td>\n",
              "      <td>100%</td>\n",
              "      <td>No</td>\n",
              "      <td>Partially</td>\n",
              "      <td>No</td>\n",
              "      <td>Yes</td>\n",
              "      <td>Yes</td>\n",
              "      <td>NaN</td>\n",
              "    </tr>\n",
              "    <tr>\n",
              "      <th>1</th>\n",
              "      <td>Canada</td>\n",
              "      <td>Software</td>\n",
              "      <td></td>\n",
              "      <td>Software</td>\n",
              "      <td>NaN</td>\n",
              "      <td>Executive</td>\n",
              "      <td>White</td>\n",
              "      <td>NaN</td>\n",
              "      <td>15 years - 19 years</td>\n",
              "      <td>Less than six months</td>\n",
              "      <td>0.0</td>\n",
              "      <td>NaN</td>\n",
              "      <td>1.0</td>\n",
              "      <td>0.0</td>\n",
              "      <td>1.0</td>\n",
              "      <td>1.0</td>\n",
              "      <td>Difficulties with collaboration and communication</td>\n",
              "      <td>NaN</td>\n",
              "      <td>Not having to commute</td>\n",
              "      <td>NaN</td>\n",
              "      <td>1.0</td>\n",
              "      <td>Yes</td>\n",
              "      <td>NaN</td>\n",
              "      <td>1.0</td>\n",
              "      <td>Already well equites with remote software stack</td>\n",
              "      <td>NaN</td>\n",
              "      <td>My work hours</td>\n",
              "      <td>NaN</td>\n",
              "      <td>I'm working more</td>\n",
              "      <td>1.0</td>\n",
              "      <td>Employee</td>\n",
              "      <td>1.0</td>\n",
              "      <td>2-5 time zones</td>\n",
              "      <td>1.0</td>\n",
              "      <td>1.0</td>\n",
              "      <td>101 to 500</td>\n",
              "      <td>76 to 99%</td>\n",
              "      <td>No</td>\n",
              "      <td>Yes</td>\n",
              "      <td>No</td>\n",
              "      <td>Yes</td>\n",
              "      <td>Yes</td>\n",
              "      <td>No</td>\n",
              "    </tr>\n",
              "    <tr>\n",
              "      <th>2</th>\n",
              "      <td>India</td>\n",
              "      <td>IT and Services</td>\n",
              "      <td></td>\n",
              "      <td>IT and Services</td>\n",
              "      <td>Sales</td>\n",
              "      <td>NaN</td>\n",
              "      <td>Asian or Pacific Islander</td>\n",
              "      <td>NaN</td>\n",
              "      <td>5 years - 9 years</td>\n",
              "      <td>6 months to 11 months</td>\n",
              "      <td>0.0</td>\n",
              "      <td>NaN</td>\n",
              "      <td>1.0</td>\n",
              "      <td>1.0</td>\n",
              "      <td>1.0</td>\n",
              "      <td>1.0</td>\n",
              "      <td>Distractions at home</td>\n",
              "      <td>NaN</td>\n",
              "      <td>Ability to spend time with family</td>\n",
              "      <td>NaN</td>\n",
              "      <td>1.0</td>\n",
              "      <td>I don't know</td>\n",
              "      <td>NaN</td>\n",
              "      <td>1.0</td>\n",
              "      <td>Nature of business</td>\n",
              "      <td>NaN</td>\n",
              "      <td>I’m now acting as my child(ren)’s caretaker/te...</td>\n",
              "      <td>NaN</td>\n",
              "      <td>I'm working more</td>\n",
              "      <td>0.0</td>\n",
              "      <td>Employee</td>\n",
              "      <td>1.0</td>\n",
              "      <td>2-5 time zones</td>\n",
              "      <td>1.0</td>\n",
              "      <td>0.0</td>\n",
              "      <td>51 to 100</td>\n",
              "      <td>100%</td>\n",
              "      <td>Partially</td>\n",
              "      <td>No</td>\n",
              "      <td>No</td>\n",
              "      <td>Yes</td>\n",
              "      <td>Yes</td>\n",
              "      <td>No</td>\n",
              "    </tr>\n",
              "    <tr>\n",
              "      <th>3</th>\n",
              "      <td>Brazil</td>\n",
              "      <td></td>\n",
              "      <td>Energy</td>\n",
              "      <td>Energy</td>\n",
              "      <td>Leadership</td>\n",
              "      <td>NaN</td>\n",
              "      <td>Hispanic or Latino</td>\n",
              "      <td>NaN</td>\n",
              "      <td>5 years - 9 years</td>\n",
              "      <td>1 year to 4 years</td>\n",
              "      <td>0.0</td>\n",
              "      <td>NaN</td>\n",
              "      <td>1.0</td>\n",
              "      <td>1.0</td>\n",
              "      <td>1.0</td>\n",
              "      <td>1.0</td>\n",
              "      <td>Not being able to unplug</td>\n",
              "      <td>NaN</td>\n",
              "      <td>Flexibility to work from any location</td>\n",
              "      <td>NaN</td>\n",
              "      <td>0.0</td>\n",
              "      <td>NaN</td>\n",
              "      <td>NaN</td>\n",
              "      <td>NaN</td>\n",
              "      <td>NaN</td>\n",
              "      <td>NaN</td>\n",
              "      <td>NaN</td>\n",
              "      <td>NaN</td>\n",
              "      <td>NaN</td>\n",
              "      <td>NaN</td>\n",
              "      <td>Freelancer / Self-employed</td>\n",
              "      <td>NaN</td>\n",
              "      <td>NaN</td>\n",
              "      <td>NaN</td>\n",
              "      <td>NaN</td>\n",
              "      <td>NaN</td>\n",
              "      <td>NaN</td>\n",
              "      <td>NaN</td>\n",
              "      <td>NaN</td>\n",
              "      <td>NaN</td>\n",
              "      <td>NaN</td>\n",
              "      <td>NaN</td>\n",
              "      <td>NaN</td>\n",
              "    </tr>\n",
              "    <tr>\n",
              "      <th>4</th>\n",
              "      <td>United States</td>\n",
              "      <td>IT and Services</td>\n",
              "      <td></td>\n",
              "      <td>IT and Services</td>\n",
              "      <td>Customer Support</td>\n",
              "      <td>NaN</td>\n",
              "      <td>White</td>\n",
              "      <td>NaN</td>\n",
              "      <td>More than 20 years</td>\n",
              "      <td>More than 10 years</td>\n",
              "      <td>0.0</td>\n",
              "      <td>NaN</td>\n",
              "      <td>0.0</td>\n",
              "      <td>NaN</td>\n",
              "      <td>1.0</td>\n",
              "      <td>1.0</td>\n",
              "      <td>Not being able to unplug</td>\n",
              "      <td>NaN</td>\n",
              "      <td>Flexibility to work from any location</td>\n",
              "      <td>NaN</td>\n",
              "      <td>1.0</td>\n",
              "      <td>Yes</td>\n",
              "      <td>NaN</td>\n",
              "      <td>1.0</td>\n",
              "      <td>Self-employed IT Consultant</td>\n",
              "      <td>NaN</td>\n",
              "      <td>My work hours</td>\n",
              "      <td>NaN</td>\n",
              "      <td>I'm working the same amount</td>\n",
              "      <td>0.0</td>\n",
              "      <td>Freelancer / Self-employed</td>\n",
              "      <td>NaN</td>\n",
              "      <td>NaN</td>\n",
              "      <td>NaN</td>\n",
              "      <td>NaN</td>\n",
              "      <td>NaN</td>\n",
              "      <td>NaN</td>\n",
              "      <td>NaN</td>\n",
              "      <td>NaN</td>\n",
              "      <td>NaN</td>\n",
              "      <td>NaN</td>\n",
              "      <td>NaN</td>\n",
              "      <td>NaN</td>\n",
              "    </tr>\n",
              "  </tbody>\n",
              "</table>\n",
              "</div>"
            ],
            "text/plain": [
              "  What country do you live in currently?  ... Are there any other costs of working remotely that your company covers?\n",
              "0                          United States  ...                                                NaN                     \n",
              "1                                 Canada  ...                                                 No                     \n",
              "2                                  India  ...                                                 No                     \n",
              "3                                 Brazil  ...                                                NaN                     \n",
              "4                          United States  ...                                                NaN                     \n",
              "\n",
              "[5 rows x 43 columns]"
            ]
          },
          "metadata": {
            "tags": []
          },
          "execution_count": 14
        }
      ]
    },
    {
      "cell_type": "code",
      "metadata": {
        "id": "C_eGcv8eBkqA"
      },
      "source": [
        "remote['Industry'] = remote['Industry'].str.strip()"
      ],
      "execution_count": 15,
      "outputs": []
    },
    {
      "cell_type": "code",
      "metadata": {
        "colab": {
          "base_uri": "https://localhost:8080/"
        },
        "id": "8OAFauxfBZaE",
        "outputId": "5f77a2e8-b2b5-47ec-c543-16f3168b56fb"
      },
      "source": [
        "remote['Industry'].value_counts()"
      ],
      "execution_count": 16,
      "outputs": [
        {
          "output_type": "execute_result",
          "data": {
            "text/plain": [
              "Software                        821\n",
              "IT and Services                 403\n",
              "Marketing                       241\n",
              "Financial Services              111\n",
              "Education                        95\n",
              "                               ... \n",
              "Website Design & Development      1\n",
              "Business Consulting               1\n",
              "Art (theatre)                     1\n",
              "fitness                           1\n",
              "Recruitment                       1\n",
              "Name: Industry, Length: 126, dtype: int64"
            ]
          },
          "metadata": {
            "tags": []
          },
          "execution_count": 16
        }
      ]
    },
    {
      "cell_type": "code",
      "metadata": {
        "colab": {
          "base_uri": "https://localhost:8080/"
        },
        "id": "U2TmjbnVCZ2h",
        "outputId": "ff832d6f-b8f3-4901-ed66-6b984e50a34b"
      },
      "source": [
        "remote['What_industry'] = remote['What_industry'].replace(' ', 'Other')\n",
        "remote['What_industry'].value_counts()"
      ],
      "execution_count": 17,
      "outputs": [
        {
          "output_type": "execute_result",
          "data": {
            "text/plain": [
              "Software                  821\n",
              "IT and Services           403\n",
              "Marketing                 240\n",
              "Other                     149\n",
              "Financial Services        111\n",
              "Education                  95\n",
              "Media and Publishing       87\n",
              "Non-profit                 76\n",
              "E-commerce                 57\n",
              "Consumer products          56\n",
              "Medical and Healthcare     47\n",
              "Government                 37\n",
              "Travel and Tourism         29\n",
              "Law and Legal Services     10\n",
              "Name: What_industry, dtype: int64"
            ]
          },
          "metadata": {
            "tags": []
          },
          "execution_count": 17
        }
      ]
    },
    {
      "cell_type": "code",
      "metadata": {
        "colab": {
          "base_uri": "https://localhost:8080/"
        },
        "id": "PqPyDCCbDGW8",
        "outputId": "eae756c9-d36b-4bfd-fbf4-67b4cdf5dee3"
      },
      "source": [
        "remote['Job_desc'].value_counts()"
      ],
      "execution_count": 18,
      "outputs": [
        {
          "output_type": "execute_result",
          "data": {
            "text/plain": [
              "Engineering                  725\n",
              "Marketing and Advertising    398\n",
              "Leadership                   193\n",
              "Design                       157\n",
              "Product                      143\n",
              "Operations                   133\n",
              "Customer Support              94\n",
              "Human Resources               73\n",
              "Data                          66\n",
              "Sales                         56\n",
              "Finances                      48\n",
              "Name: Job_desc, dtype: int64"
            ]
          },
          "metadata": {
            "tags": []
          },
          "execution_count": 18
        }
      ]
    },
    {
      "cell_type": "code",
      "metadata": {
        "colab": {
          "base_uri": "https://localhost:8080/"
        },
        "id": "KYXH-CqfDOz1",
        "outputId": "d3c18344-e99e-4fb4-fc3f-034f606b486d"
      },
      "source": [
        "remote['Other.1'].value_counts()"
      ],
      "execution_count": 19,
      "outputs": [
        {
          "output_type": "execute_result",
          "data": {
            "text/plain": [
              "Research                                                                                            7\n",
              "Communications                                                                                      3\n",
              "Consulting                                                                                          3\n",
              "Content                                                                                             3\n",
              "Project Management                                                                                  3\n",
              "                                                                                                   ..\n",
              "Program Management                                                                                  1\n",
              "Legal                                                                                               1\n",
              "Education/Teaching                                                                                  1\n",
              "Volunteer support, organisational support for volunteers, promoting volunteer opportunities, etc    1\n",
              "Membership Engagement                                                                               1\n",
              "Name: Other.1, Length: 108, dtype: int64"
            ]
          },
          "metadata": {
            "tags": []
          },
          "execution_count": 19
        }
      ]
    },
    {
      "cell_type": "code",
      "metadata": {
        "colab": {
          "base_uri": "https://localhost:8080/"
        },
        "id": "wdxJu7Ik5Ztq",
        "outputId": "89f33ff1-6ce9-41ef-a955-e14f8300a281"
      },
      "source": [
        "remote['Job_desc'] = remote['Job_desc'].fillna('Other')\n",
        "remote['Job_desc'].value_counts()"
      ],
      "execution_count": 20,
      "outputs": [
        {
          "output_type": "execute_result",
          "data": {
            "text/plain": [
              "Engineering                  725\n",
              "Marketing and Advertising    398\n",
              "Leadership                   193\n",
              "Design                       157\n",
              "Product                      143\n",
              "Operations                   133\n",
              "Other                        132\n",
              "Customer Support              94\n",
              "Human Resources               73\n",
              "Data                          66\n",
              "Sales                         56\n",
              "Finances                      48\n",
              "Name: Job_desc, dtype: int64"
            ]
          },
          "metadata": {
            "tags": []
          },
          "execution_count": 20
        }
      ]
    },
    {
      "cell_type": "code",
      "metadata": {
        "colab": {
          "base_uri": "https://localhost:8080/",
          "height": 746
        },
        "id": "zZGEVLZjQM3M",
        "outputId": "7c05e187-a468-4fe8-ac2e-65db78105370"
      },
      "source": [
        "remote.head()"
      ],
      "execution_count": 21,
      "outputs": [
        {
          "output_type": "execute_result",
          "data": {
            "text/html": [
              "<div>\n",
              "<style scoped>\n",
              "    .dataframe tbody tr th:only-of-type {\n",
              "        vertical-align: middle;\n",
              "    }\n",
              "\n",
              "    .dataframe tbody tr th {\n",
              "        vertical-align: top;\n",
              "    }\n",
              "\n",
              "    .dataframe thead th {\n",
              "        text-align: right;\n",
              "    }\n",
              "</style>\n",
              "<table border=\"1\" class=\"dataframe\">\n",
              "  <thead>\n",
              "    <tr style=\"text-align: right;\">\n",
              "      <th></th>\n",
              "      <th>What country do you live in currently?</th>\n",
              "      <th>What_industry</th>\n",
              "      <th>Other</th>\n",
              "      <th>Industry</th>\n",
              "      <th>Job_desc</th>\n",
              "      <th>Other.1</th>\n",
              "      <th>Which of the following best describes you?</th>\n",
              "      <th>Other.2</th>\n",
              "      <th>Total_years_worked</th>\n",
              "      <th>Years_worked_remotely</th>\n",
              "      <th>Do you have a disability or chronic illness?</th>\n",
              "      <th>Is a disability or chronic illness one of the reasons you pursued remote work?</th>\n",
              "      <th>Are you a parent or caregiver?</th>\n",
              "      <th>Is being a parent or caregiver one of the reasons you pursued remote work?</th>\n",
              "      <th>Would you like to work remotely, at least some of the time, for the rest of your career?</th>\n",
              "      <th>Would you recommend remote work to others?</th>\n",
              "      <th>What’s your biggest struggle with working remotely?</th>\n",
              "      <th>Other.3</th>\n",
              "      <th>What’s the biggest benefit you see to working remotely?</th>\n",
              "      <th>Other.4</th>\n",
              "      <th>Are you working remotely as a result of COVID-19?</th>\n",
              "      <th>Is your company planning on permanently allowing remote work?</th>\n",
              "      <th>When will you be returning to your workspace and no longer be allowed to work remotely?</th>\n",
              "      <th>Was your company's transition to remote work smooth?</th>\n",
              "      <th>What made it smooth?</th>\n",
              "      <th>Why not?</th>\n",
              "      <th>What has changed the most about your work now that you work remotely?</th>\n",
              "      <th>Other.5</th>\n",
              "      <th>Would you say you are working less or more now that you work remotely?</th>\n",
              "      <th>Do you find you are in more meetings as a result of the shift to remote work?</th>\n",
              "      <th>Which description best suits you?</th>\n",
              "      <th>Is your company operating in multiple time zones?</th>\n",
              "      <th>How many time zones do employees at your company span?</th>\n",
              "      <th>Are people on your immediate team in multiple time zones?</th>\n",
              "      <th>Does your company encourage asynchronous communication? (Asynchronous communication simply means that work doesn’t happen at the same time for everyone. E.g. On video calls.)</th>\n",
              "      <th>How many full-time employees does your company have?</th>\n",
              "      <th>What percentage of your company works remotely?</th>\n",
              "      <th>If you work from home, does your company pay for your home internet?</th>\n",
              "      <th>\\nDoes your company pay for your cell phone?</th>\n",
              "      <th>Does your company cover the cost of a coworking membership?</th>\n",
              "      <th>Does your company cover your necessary hardware needs (e.g. a laptop or desktop computer)?</th>\n",
              "      <th>Does your company cover your necessary software needs?</th>\n",
              "      <th>Are there any other costs of working remotely that your company covers?</th>\n",
              "    </tr>\n",
              "  </thead>\n",
              "  <tbody>\n",
              "    <tr>\n",
              "      <th>0</th>\n",
              "      <td>United States</td>\n",
              "      <td>Education</td>\n",
              "      <td></td>\n",
              "      <td>Education</td>\n",
              "      <td>Leadership</td>\n",
              "      <td>NaN</td>\n",
              "      <td>Black or African American</td>\n",
              "      <td>NaN</td>\n",
              "      <td>10 years - 14 years</td>\n",
              "      <td>1 year to 4 years</td>\n",
              "      <td>0.0</td>\n",
              "      <td>NaN</td>\n",
              "      <td>1.0</td>\n",
              "      <td>0.0</td>\n",
              "      <td>1.0</td>\n",
              "      <td>1.0</td>\n",
              "      <td>Distractions at home</td>\n",
              "      <td>NaN</td>\n",
              "      <td>Ability to spend time with family</td>\n",
              "      <td>NaN</td>\n",
              "      <td>0.0</td>\n",
              "      <td>NaN</td>\n",
              "      <td>NaN</td>\n",
              "      <td>NaN</td>\n",
              "      <td>NaN</td>\n",
              "      <td>NaN</td>\n",
              "      <td>NaN</td>\n",
              "      <td>NaN</td>\n",
              "      <td>NaN</td>\n",
              "      <td>NaN</td>\n",
              "      <td>Employee</td>\n",
              "      <td>0.0</td>\n",
              "      <td>NaN</td>\n",
              "      <td>NaN</td>\n",
              "      <td>1.0</td>\n",
              "      <td>More than 1,001</td>\n",
              "      <td>100%</td>\n",
              "      <td>No</td>\n",
              "      <td>Partially</td>\n",
              "      <td>No</td>\n",
              "      <td>Yes</td>\n",
              "      <td>Yes</td>\n",
              "      <td>NaN</td>\n",
              "    </tr>\n",
              "    <tr>\n",
              "      <th>1</th>\n",
              "      <td>Canada</td>\n",
              "      <td>Software</td>\n",
              "      <td></td>\n",
              "      <td>Software</td>\n",
              "      <td>Other</td>\n",
              "      <td>Executive</td>\n",
              "      <td>White</td>\n",
              "      <td>NaN</td>\n",
              "      <td>15 years - 19 years</td>\n",
              "      <td>Less than six months</td>\n",
              "      <td>0.0</td>\n",
              "      <td>NaN</td>\n",
              "      <td>1.0</td>\n",
              "      <td>0.0</td>\n",
              "      <td>1.0</td>\n",
              "      <td>1.0</td>\n",
              "      <td>Difficulties with collaboration and communication</td>\n",
              "      <td>NaN</td>\n",
              "      <td>Not having to commute</td>\n",
              "      <td>NaN</td>\n",
              "      <td>1.0</td>\n",
              "      <td>Yes</td>\n",
              "      <td>NaN</td>\n",
              "      <td>1.0</td>\n",
              "      <td>Already well equites with remote software stack</td>\n",
              "      <td>NaN</td>\n",
              "      <td>My work hours</td>\n",
              "      <td>NaN</td>\n",
              "      <td>I'm working more</td>\n",
              "      <td>1.0</td>\n",
              "      <td>Employee</td>\n",
              "      <td>1.0</td>\n",
              "      <td>2-5 time zones</td>\n",
              "      <td>1.0</td>\n",
              "      <td>1.0</td>\n",
              "      <td>101 to 500</td>\n",
              "      <td>76 to 99%</td>\n",
              "      <td>No</td>\n",
              "      <td>Yes</td>\n",
              "      <td>No</td>\n",
              "      <td>Yes</td>\n",
              "      <td>Yes</td>\n",
              "      <td>No</td>\n",
              "    </tr>\n",
              "    <tr>\n",
              "      <th>2</th>\n",
              "      <td>India</td>\n",
              "      <td>IT and Services</td>\n",
              "      <td></td>\n",
              "      <td>IT and Services</td>\n",
              "      <td>Sales</td>\n",
              "      <td>NaN</td>\n",
              "      <td>Asian or Pacific Islander</td>\n",
              "      <td>NaN</td>\n",
              "      <td>5 years - 9 years</td>\n",
              "      <td>6 months to 11 months</td>\n",
              "      <td>0.0</td>\n",
              "      <td>NaN</td>\n",
              "      <td>1.0</td>\n",
              "      <td>1.0</td>\n",
              "      <td>1.0</td>\n",
              "      <td>1.0</td>\n",
              "      <td>Distractions at home</td>\n",
              "      <td>NaN</td>\n",
              "      <td>Ability to spend time with family</td>\n",
              "      <td>NaN</td>\n",
              "      <td>1.0</td>\n",
              "      <td>I don't know</td>\n",
              "      <td>NaN</td>\n",
              "      <td>1.0</td>\n",
              "      <td>Nature of business</td>\n",
              "      <td>NaN</td>\n",
              "      <td>I’m now acting as my child(ren)’s caretaker/te...</td>\n",
              "      <td>NaN</td>\n",
              "      <td>I'm working more</td>\n",
              "      <td>0.0</td>\n",
              "      <td>Employee</td>\n",
              "      <td>1.0</td>\n",
              "      <td>2-5 time zones</td>\n",
              "      <td>1.0</td>\n",
              "      <td>0.0</td>\n",
              "      <td>51 to 100</td>\n",
              "      <td>100%</td>\n",
              "      <td>Partially</td>\n",
              "      <td>No</td>\n",
              "      <td>No</td>\n",
              "      <td>Yes</td>\n",
              "      <td>Yes</td>\n",
              "      <td>No</td>\n",
              "    </tr>\n",
              "    <tr>\n",
              "      <th>3</th>\n",
              "      <td>Brazil</td>\n",
              "      <td>Other</td>\n",
              "      <td>Energy</td>\n",
              "      <td>Energy</td>\n",
              "      <td>Leadership</td>\n",
              "      <td>NaN</td>\n",
              "      <td>Hispanic or Latino</td>\n",
              "      <td>NaN</td>\n",
              "      <td>5 years - 9 years</td>\n",
              "      <td>1 year to 4 years</td>\n",
              "      <td>0.0</td>\n",
              "      <td>NaN</td>\n",
              "      <td>1.0</td>\n",
              "      <td>1.0</td>\n",
              "      <td>1.0</td>\n",
              "      <td>1.0</td>\n",
              "      <td>Not being able to unplug</td>\n",
              "      <td>NaN</td>\n",
              "      <td>Flexibility to work from any location</td>\n",
              "      <td>NaN</td>\n",
              "      <td>0.0</td>\n",
              "      <td>NaN</td>\n",
              "      <td>NaN</td>\n",
              "      <td>NaN</td>\n",
              "      <td>NaN</td>\n",
              "      <td>NaN</td>\n",
              "      <td>NaN</td>\n",
              "      <td>NaN</td>\n",
              "      <td>NaN</td>\n",
              "      <td>NaN</td>\n",
              "      <td>Freelancer / Self-employed</td>\n",
              "      <td>NaN</td>\n",
              "      <td>NaN</td>\n",
              "      <td>NaN</td>\n",
              "      <td>NaN</td>\n",
              "      <td>NaN</td>\n",
              "      <td>NaN</td>\n",
              "      <td>NaN</td>\n",
              "      <td>NaN</td>\n",
              "      <td>NaN</td>\n",
              "      <td>NaN</td>\n",
              "      <td>NaN</td>\n",
              "      <td>NaN</td>\n",
              "    </tr>\n",
              "    <tr>\n",
              "      <th>4</th>\n",
              "      <td>United States</td>\n",
              "      <td>IT and Services</td>\n",
              "      <td></td>\n",
              "      <td>IT and Services</td>\n",
              "      <td>Customer Support</td>\n",
              "      <td>NaN</td>\n",
              "      <td>White</td>\n",
              "      <td>NaN</td>\n",
              "      <td>More than 20 years</td>\n",
              "      <td>More than 10 years</td>\n",
              "      <td>0.0</td>\n",
              "      <td>NaN</td>\n",
              "      <td>0.0</td>\n",
              "      <td>NaN</td>\n",
              "      <td>1.0</td>\n",
              "      <td>1.0</td>\n",
              "      <td>Not being able to unplug</td>\n",
              "      <td>NaN</td>\n",
              "      <td>Flexibility to work from any location</td>\n",
              "      <td>NaN</td>\n",
              "      <td>1.0</td>\n",
              "      <td>Yes</td>\n",
              "      <td>NaN</td>\n",
              "      <td>1.0</td>\n",
              "      <td>Self-employed IT Consultant</td>\n",
              "      <td>NaN</td>\n",
              "      <td>My work hours</td>\n",
              "      <td>NaN</td>\n",
              "      <td>I'm working the same amount</td>\n",
              "      <td>0.0</td>\n",
              "      <td>Freelancer / Self-employed</td>\n",
              "      <td>NaN</td>\n",
              "      <td>NaN</td>\n",
              "      <td>NaN</td>\n",
              "      <td>NaN</td>\n",
              "      <td>NaN</td>\n",
              "      <td>NaN</td>\n",
              "      <td>NaN</td>\n",
              "      <td>NaN</td>\n",
              "      <td>NaN</td>\n",
              "      <td>NaN</td>\n",
              "      <td>NaN</td>\n",
              "      <td>NaN</td>\n",
              "    </tr>\n",
              "  </tbody>\n",
              "</table>\n",
              "</div>"
            ],
            "text/plain": [
              "  What country do you live in currently?  ... Are there any other costs of working remotely that your company covers?\n",
              "0                          United States  ...                                                NaN                     \n",
              "1                                 Canada  ...                                                 No                     \n",
              "2                                  India  ...                                                 No                     \n",
              "3                                 Brazil  ...                                                NaN                     \n",
              "4                          United States  ...                                                NaN                     \n",
              "\n",
              "[5 rows x 43 columns]"
            ]
          },
          "metadata": {
            "tags": []
          },
          "execution_count": 21
        }
      ]
    },
    {
      "cell_type": "code",
      "metadata": {
        "colab": {
          "base_uri": "https://localhost:8080/"
        },
        "id": "Q49Md8yWEzRa",
        "outputId": "be508adb-a668-4ac4-8228-d846e361f36e"
      },
      "source": [
        "print(remote['Would you recommend remote work to others?'].value_counts())\n",
        "print(remote['Would you recommend remote work to others?'].isna().sum())"
      ],
      "execution_count": 23,
      "outputs": [
        {
          "output_type": "stream",
          "text": [
            "1.0    2150\n",
            "0.0      68\n",
            "Name: Would you recommend remote work to others?, dtype: int64\n",
            "0\n"
          ],
          "name": "stdout"
        }
      ]
    },
    {
      "cell_type": "code",
      "metadata": {
        "colab": {
          "base_uri": "https://localhost:8080/",
          "height": 370
        },
        "id": "NMWnv2XbFs1d",
        "outputId": "a1684fd7-17a0-4877-e5a5-5bc5b873d009"
      },
      "source": [
        "dups = remote.duplicated() == True\n",
        "\n",
        "remote[dups]"
      ],
      "execution_count": 35,
      "outputs": [
        {
          "output_type": "execute_result",
          "data": {
            "text/html": [
              "<div>\n",
              "<style scoped>\n",
              "    .dataframe tbody tr th:only-of-type {\n",
              "        vertical-align: middle;\n",
              "    }\n",
              "\n",
              "    .dataframe tbody tr th {\n",
              "        vertical-align: top;\n",
              "    }\n",
              "\n",
              "    .dataframe thead th {\n",
              "        text-align: right;\n",
              "    }\n",
              "</style>\n",
              "<table border=\"1\" class=\"dataframe\">\n",
              "  <thead>\n",
              "    <tr style=\"text-align: right;\">\n",
              "      <th></th>\n",
              "      <th>What country do you live in currently?</th>\n",
              "      <th>What_industry</th>\n",
              "      <th>Other</th>\n",
              "      <th>Industry</th>\n",
              "      <th>Job_desc</th>\n",
              "      <th>Other.1</th>\n",
              "      <th>Which of the following best describes you?</th>\n",
              "      <th>Other.2</th>\n",
              "      <th>Total_years_worked</th>\n",
              "      <th>Years_worked_remotely</th>\n",
              "      <th>Do you have a disability or chronic illness?</th>\n",
              "      <th>Is a disability or chronic illness one of the reasons you pursued remote work?</th>\n",
              "      <th>Are you a parent or caregiver?</th>\n",
              "      <th>Is being a parent or caregiver one of the reasons you pursued remote work?</th>\n",
              "      <th>Would you like to work remotely, at least some of the time, for the rest of your career?</th>\n",
              "      <th>Would you recommend remote work to others?</th>\n",
              "      <th>What’s your biggest struggle with working remotely?</th>\n",
              "      <th>Other.3</th>\n",
              "      <th>What’s the biggest benefit you see to working remotely?</th>\n",
              "      <th>Other.4</th>\n",
              "      <th>Are you working remotely as a result of COVID-19?</th>\n",
              "      <th>Is your company planning on permanently allowing remote work?</th>\n",
              "      <th>When will you be returning to your workspace and no longer be allowed to work remotely?</th>\n",
              "      <th>Was your company's transition to remote work smooth?</th>\n",
              "      <th>What made it smooth?</th>\n",
              "      <th>Why not?</th>\n",
              "      <th>What has changed the most about your work now that you work remotely?</th>\n",
              "      <th>Other.5</th>\n",
              "      <th>Would you say you are working less or more now that you work remotely?</th>\n",
              "      <th>Do you find you are in more meetings as a result of the shift to remote work?</th>\n",
              "      <th>Which description best suits you?</th>\n",
              "      <th>Is your company operating in multiple time zones?</th>\n",
              "      <th>How many time zones do employees at your company span?</th>\n",
              "      <th>Are people on your immediate team in multiple time zones?</th>\n",
              "      <th>Does your company encourage asynchronous communication? (Asynchronous communication simply means that work doesn’t happen at the same time for everyone. E.g. On video calls.)</th>\n",
              "      <th>How many full-time employees does your company have?</th>\n",
              "      <th>What percentage of your company works remotely?</th>\n",
              "      <th>If you work from home, does your company pay for your home internet?</th>\n",
              "      <th>\\nDoes your company pay for your cell phone?</th>\n",
              "      <th>Does your company cover the cost of a coworking membership?</th>\n",
              "      <th>Does your company cover your necessary hardware needs (e.g. a laptop or desktop computer)?</th>\n",
              "      <th>Does your company cover your necessary software needs?</th>\n",
              "      <th>Are there any other costs of working remotely that your company covers?</th>\n",
              "    </tr>\n",
              "  </thead>\n",
              "  <tbody>\n",
              "    <tr>\n",
              "      <th>1242</th>\n",
              "      <td>France</td>\n",
              "      <td>Media and Publishing</td>\n",
              "      <td></td>\n",
              "      <td>Media and Publishing</td>\n",
              "      <td>Marketing and Advertising</td>\n",
              "      <td>NaN</td>\n",
              "      <td>White</td>\n",
              "      <td>NaN</td>\n",
              "      <td>More than 20 years</td>\n",
              "      <td>1 year to 4 years</td>\n",
              "      <td>0.0</td>\n",
              "      <td>NaN</td>\n",
              "      <td>1.0</td>\n",
              "      <td>1.0</td>\n",
              "      <td>1.0</td>\n",
              "      <td>1.0</td>\n",
              "      <td>Not being able to unplug</td>\n",
              "      <td>NaN</td>\n",
              "      <td>Ability to spend time with family</td>\n",
              "      <td>NaN</td>\n",
              "      <td>0.0</td>\n",
              "      <td>NaN</td>\n",
              "      <td>NaN</td>\n",
              "      <td>NaN</td>\n",
              "      <td>NaN</td>\n",
              "      <td>NaN</td>\n",
              "      <td>NaN</td>\n",
              "      <td>NaN</td>\n",
              "      <td>NaN</td>\n",
              "      <td>NaN</td>\n",
              "      <td>Freelancer / Self-employed</td>\n",
              "      <td>NaN</td>\n",
              "      <td>NaN</td>\n",
              "      <td>NaN</td>\n",
              "      <td>NaN</td>\n",
              "      <td>NaN</td>\n",
              "      <td>NaN</td>\n",
              "      <td>NaN</td>\n",
              "      <td>NaN</td>\n",
              "      <td>NaN</td>\n",
              "      <td>NaN</td>\n",
              "      <td>NaN</td>\n",
              "      <td>NaN</td>\n",
              "    </tr>\n",
              "  </tbody>\n",
              "</table>\n",
              "</div>"
            ],
            "text/plain": [
              "     What country do you live in currently?  ... Are there any other costs of working remotely that your company covers?\n",
              "1242                                 France  ...                                                NaN                     \n",
              "\n",
              "[1 rows x 43 columns]"
            ]
          },
          "metadata": {
            "tags": []
          },
          "execution_count": 35
        }
      ]
    },
    {
      "cell_type": "code",
      "metadata": {
        "id": "T5u51jmbbF5J"
      },
      "source": [
        "remote.drop_duplicates(inplace=True)"
      ],
      "execution_count": 38,
      "outputs": []
    },
    {
      "cell_type": "code",
      "metadata": {
        "colab": {
          "base_uri": "https://localhost:8080/"
        },
        "id": "ev2lZ6bzc2hN",
        "outputId": "7da14d4f-8825-47a6-cc04-018c3270eecf"
      },
      "source": [
        "print(remote['Total_years_worked'].value_counts())\n",
        "print(remote['Total_years_worked'].isna().sum())"
      ],
      "execution_count": 45,
      "outputs": [
        {
          "output_type": "stream",
          "text": [
            "5 years - 9 years       574\n",
            "10 years - 14 years     512\n",
            "1 year - 4 years        355\n",
            "15 years - 19 years     347\n",
            "More than 20 years      330\n",
            "6 months - 11 months     53\n",
            "Less than six months     46\n",
            "Name: Total_years_worked, dtype: int64\n",
            "0\n"
          ],
          "name": "stdout"
        }
      ]
    },
    {
      "cell_type": "code",
      "metadata": {
        "colab": {
          "base_uri": "https://localhost:8080/"
        },
        "id": "JVvEU04NdG5I",
        "outputId": "4ee4af0a-0c91-4772-f4f4-31b50c8862c2"
      },
      "source": [
        "print(remote['Years_worked_remotely'].value_counts())\n",
        "print(remote['Years_worked_remotely'].isna().sum())"
      ],
      "execution_count": 44,
      "outputs": [
        {
          "output_type": "stream",
          "text": [
            "1 year to 4 years        748\n",
            "6 months to 11 months    712\n",
            "5 years - 9 years        431\n",
            "Less than six months     174\n",
            "More than 10 years       152\n",
            "Name: Years_worked_remotely, dtype: int64\n",
            "0\n"
          ],
          "name": "stdout"
        }
      ]
    },
    {
      "cell_type": "code",
      "metadata": {
        "colab": {
          "base_uri": "https://localhost:8080/"
        },
        "id": "KYefX4MwdX_e",
        "outputId": "73e6fb44-47c2-4345-bb54-0cf0c0a2e86d"
      },
      "source": [
        "print(remote['Would you recommend remote work to others?'].value_counts())\n",
        "print(remote['Would you recommend remote work to others?'].isna().sum())"
      ],
      "execution_count": 43,
      "outputs": [
        {
          "output_type": "stream",
          "text": [
            "1.0    2149\n",
            "0.0      68\n",
            "Name: Would you recommend remote work to others?, dtype: int64\n",
            "0\n"
          ],
          "name": "stdout"
        }
      ]
    },
    {
      "cell_type": "code",
      "metadata": {
        "colab": {
          "base_uri": "https://localhost:8080/",
          "height": 597
        },
        "id": "oduujZFMdm8P",
        "outputId": "7e7f728b-c82a-48e5-fd45-277e9815e464"
      },
      "source": [
        "remoteyrs = (remote['Years_worked_remotely'] == 'Less than six months') | (remote['Years_worked_remotely'] == '6 months - 11 months') | (remote['Years_worked_remotely'] == '1 year to 4 years')\n",
        "workingyrs = (remote['Total_years_worked'] == 'Less than six months') | (remote['Total_years_worked'] == '6 months - 11 months') | (remote['Total_years_worked'] == '1 year to 4 years')\n",
        "\n",
        "plt.figure(figsize=(12, 8))\n",
        "remote.loc[remoteyrs, 'What_industry'].hist()\n",
        "plt.xticks(rotation=45)"
      ],
      "execution_count": 90,
      "outputs": [
        {
          "output_type": "execute_result",
          "data": {
            "text/plain": [
              "([0, 1, 2, 3, 4, 5, 6, 7, 8, 9, 10, 11, 12, 13],\n",
              " <a list of 14 Text major ticklabel objects>)"
            ]
          },
          "metadata": {
            "tags": []
          },
          "execution_count": 90
        },
        {
          "output_type": "display_data",
          "data": {
            "image/png": "[encoded data removed]",
            "text/plain": [
              "<Figure size 864x576 with 1 Axes>"
            ]
          },
          "metadata": {
            "tags": [],
            "needs_background": "light"
          }
        }
      ]
    },
    {
      "cell_type": "code",
      "metadata": {
        "colab": {
          "base_uri": "https://localhost:8080/",
          "height": 674
        },
        "id": "YyEzMnFsjiqu",
        "outputId": "1e4d929c-61ad-46ad-d252-711290181761"
      },
      "source": [
        "recommend = remote['Would you recommend remote work to others?'] == 1\n",
        "\n",
        "plt.style.use('seaborn')\n",
        "plt.figure(figsize=(15,12))\n",
        "remote.loc[recommend, 'What_industry'].hist(bins=14,edgecolor='black', label='Recommended')\n",
        "remote.loc[~recommend, 'What_industry'].hist(bins=14, edgecolor='black', color='orange', \n",
        "                                             alpha=.8, label='Not Recommended')\n",
        "plt.grid(axis='x')\n",
        "plt.xticks(ha='right', rotation=45, fontsize=14, fontweight=500);\n",
        "plt.yticks(np.array([0,25,50,75,100,150,200,300,400,500,600,700,800]), fontsize=14);\n",
        "plt.title('Remote Work by Industry', fontsize=32, fontweight= 1000, fontfamily='fantasy')\n",
        "plt.ylabel('Total Number of Recommendations', fontsize=23, fontweight=600, fontfamily='sans-serif')\n",
        "plt.legend(bbox_to_anchor=(1,.95), \n",
        "           edgecolor= 'gray', \n",
        "           shadow=True, frameon=True, \n",
        "           fontsize = 18, fancybox=True);"
      ],
      "execution_count": 254,
      "outputs": [
        {
          "output_type": "display_data",
          "data": {
            "image/png": "[encoded data removed]",
            "text/plain": [
              "<Figure size 1080x864 with 1 Axes>"
            ]
          },
          "metadata": {
            "tags": []
          }
        }
      ]
    },
    {
      "cell_type": "code",
      "metadata": {
        "colab": {
          "base_uri": "https://localhost:8080/",
          "height": 345
        },
        "id": "RUxNawbOqdZA",
        "outputId": "f8dc4cfd-82e6-4b50-bf1c-c33c97b840f2"
      },
      "source": [
        "remote.loc[~recommend, 'What_industry'].hist(bins=14, edgecolor='black', color='orange')\n",
        "plt.xticks(ha= 'right', rotation=45);"
      ],
      "execution_count": 196,
      "outputs": [
        {
          "output_type": "display_data",
          "data": {
            "image/png": "[encoded data removed]",
            "text/plain": [
              "<Figure size 432x288 with 1 Axes>"
            ]
          },
          "metadata": {
            "tags": [],
            "needs_background": "light"
          }
        }
      ]
    },
    {
      "cell_type": "code",
      "metadata": {
        "id": "K763HdiU5LHA"
      },
      "source": [
        ""
      ],
      "execution_count": null,
      "outputs": []
    }
  ]
}